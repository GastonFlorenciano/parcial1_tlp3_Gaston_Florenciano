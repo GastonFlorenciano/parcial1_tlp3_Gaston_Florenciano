{
 "cells": [
  {
   "cell_type": "markdown",
   "id": "9fee5ee9",
   "metadata": {},
   "source": [
    "# Examen Parcial n°1 2da Parte - TLP3 - Python para Ciencia de Datos.\n"
   ]
  },
  {
   "cell_type": "markdown",
   "id": "999099d0",
   "metadata": {},
   "source": [
    "**A partir del datasets brindado, realizar los siguientes procedimientos:**\n",
    "\n",
    "* Importar datasets con Pandas.\n",
    "* Explorar los datos con los metodos correspondientes. \n",
    "* Limpieza de los datos (Normalización de datos).\n",
    "* Obtener estadisticas.\n",
    "* Mostrar los datos procesados con graficos utilizando la libreria Matplotlib.\n",
    "* Exportar el contenido a un archivo sqlite utilizando PANDAS.\n",
    "\n",
    "\n",
    "**Importante: Se debe documentar cada procedimiento realizado, siguiendo la siguiente estructura:**\n",
    "\n",
    "1. Celda de Markdown (Documentación)\n",
    "2. Código (Sin comentarios, se debe documentar lo sufiente solo en la celda de markdown).\n",
    "\n",
    "\n",
    "### Criterios de Evaluación:\n",
    "\n",
    "1. No esta permitido el uso de IAs durante el examen. (Desactivar Copilot o cualquier herramienta de IA para autocompletar codigo.)\n",
    "\n",
    "2. Se deben utilizar nombres de variables descriptivos y claros (Utilizar la nomeclatura correspondiente para los nombres de variables).\n",
    "\n",
    "3. Comentarios claros y concisos que expliquen el propósito de cada sección del código en una celda de markdown antes del código.\n",
    "\n",
    "4. Utilizar mensajes de commit descriptivos. (Puedes utilizar la extension CONVENTIONAL COMMIT de VS-CODE).\n",
    "\n",
    "5. Entrega en tiempo y forma (Parciales entregados fuera de hora o con commits pasados el horario de entrega quedará invalidado.)\n",
    "\n",
    "6. Todo el código desarrollado debe ser subido a un repositorio en GitHub (el nombre del repositorio de seguir la siguiente estructura: \n",
    "**parcial1_tlp3_nombre_apellido**).\n",
    "\n",
    "7. Para resolver las actividades se debe insertar casillas de codigo entre cada actividad del cuaderno de Jupyter.\n",
    "\n",
    "8. Deben trabajar con el datasets adjunto.\n",
    "\n",
    "9. Una vez finalizado el examen, los resultados deben quedar guardados debajo de cada celda (NO EJECUTAR LA OPCIÓN \"borrar todas las salidas\").\n",
    "\n",
    "**Importante:** Una vez finalizado el examen, marcar como completado en el classroom."
   ]
  },
  {
   "cell_type": "markdown",
   "id": "dd91f969",
   "metadata": {},
   "source": [
    "## Actividades: \n",
    "### 1. Importación del Dataset con Pandas\n",
    "\n",
    "En esta sección, se debe utilizar la librería Pandas para cargar el archivo CSV que contiene los datos de VOTACIONES en un Datasets.\n",
    "\n",
    "### 2. Exploración Inicial de los Datos\n",
    "\n",
    "A continuación, se deben emplear métodos de Pandas para obtener una visión general del dataset. \n",
    "- 2.1: Visualizar las primeras filas y ultimas.\n",
    "- 2.2: Obtener informacion del df con su metodo correspondiente.\n",
    "- 2.3: Hacer un conteo de valores nulos.\n",
    "\n",
    "### 3. Limpieza y Normalización de los Datos\n",
    "\n",
    "- 3.1. Esta etapa crucial deben aplicar la corrección de diversos errores presentes en el dataset. Se abordarán los valores faltantes (Deben aplicar los metodos que ustedes crean convenientes **(Solo 1)**, por ejemplo: Eliminación de filas, cubrir valores con media, mediana, etc.)\n",
    "- 3.2: La columna Fecha deberan pasarla al tipo datetime con su metodo correspondiente.\n",
    "- 3.3: Corregir las mayusculas en el caso de Nombre y Apellido (Si es que corresponde.)\n",
    "- 3.4: En el caso de los votos, aplicar mayusculas a cada fila.\n",
    "- 3.5 EL campo DNI debe ser del tipo INT.\n",
    "\n",
    "\n",
    "### 4. Obtención de Estadísticas Descriptivas\n",
    "\n",
    "Después de la limpieza, deben hacer lo siguiente: \n",
    "\n",
    "- 4.1: calcular nuevamente las estadísticas descriptivas para observar el impacto del proceso de limpieza en los datos numéricos.\n",
    "- 4.2: Calcular estadísticas específicas por grupo (Agrupar dos columnas).\n",
    "\n",
    "### 5. Visualización de los Datos con Matplotlib\n",
    "\n",
    "En esta sección, deben utilizar la librería Matplotlib para crear **UNA** visualización que permitan comprender mejor los datos de ventas.El grafico es a elección, puede crear **UNO** de los siguientes: histogramas, diagramas de dispersión, gráficos de barras y graficos de torta.\n",
    "\n",
    "### 6. Exportación a Archivo SQLite\n",
    "\n",
    "Finalmente, deben utilizar la funcionalidad de Pandas para guardar el DataFrame procesado en una base de datos SQLite. Deben hacer una conexión y hacer una consulta para ver si los datos fueron cargados correctamente.\n",
    "\n"
   ]
  },
  {
   "cell_type": "markdown",
   "id": "120d60dd",
   "metadata": {},
   "source": [
    "## **IMPORTACIONES**"
   ]
  },
  {
   "cell_type": "code",
   "execution_count": 26,
   "id": "08a704ee",
   "metadata": {},
   "outputs": [],
   "source": [
    "import pandas as pd\n",
    "import matplotlib.pyplot as plt"
   ]
  },
  {
   "cell_type": "markdown",
   "id": "7fd846d4",
   "metadata": {},
   "source": [
    "## 1. Importación del Dataset con Pandas\n",
    "\n",
    "En el siguiente bloque de codigo hacemos uso de Pandas para cargar el archivo csv."
   ]
  },
  {
   "cell_type": "code",
   "execution_count": 27,
   "id": "4d476aa8",
   "metadata": {},
   "outputs": [],
   "source": [
    "df = pd.read_csv('votaciones.csv')"
   ]
  },
  {
   "cell_type": "markdown",
   "id": "459efd9f",
   "metadata": {},
   "source": [
    "## 2. Exploración inicial de los datos\n",
    "\n",
    "En el siguiente bloque hacemos un vistazo superficial de los datos del DataFrame."
   ]
  },
  {
   "cell_type": "code",
   "execution_count": 28,
   "id": "510950f9",
   "metadata": {},
   "outputs": [
    {
     "name": "stdout",
     "output_type": "stream",
     "text": [
      "PRIMERAS 5 FILAS\n",
      "\n",
      "    nombre apellido         dni     provincia  voto fecha_votacion\n",
      "0  pánfilo    pombo  34787190.0  buenos aires  nulo     2024-11-22\n",
      "1   albina  heredia  48336819.0      santa fe  nulo     2024-04-24\n",
      "2      NaN   solano  49179364.0       neuquen  nulo     2024-05-20\n",
      "3   salomé   barrio  43725639.0  buenos aires   NaN     05-06-2024\n",
      "4   matías  esteban  30599927.0         chaco    no     10-07-2023\n",
      "\n",
      "ÚLTIMAS 5 FILAS\n",
      "\n",
      "       nombre apellido         dni provincia  voto fecha_votacion\n",
      "96      carla    vidal  15161718.0  misiones  nulo     2023-09-12\n",
      "97   federico  barrios  16171819.0   neuquen    no     11-09-2023\n",
      "98      belen     vera  17181920.0   tucuman    sí     2023-09-10\n",
      "99    gustavo    gauna  18192021.0  santa fe  nulo     09-09-2023\n",
      "100     rocio    avila  19202122.0   formosa    no     08-09-2023\n",
      "\n",
      "INFORMACIÓN GENERAL\n",
      "\n",
      "<class 'pandas.core.frame.DataFrame'>\n",
      "RangeIndex: 101 entries, 0 to 100\n",
      "Data columns (total 6 columns):\n",
      " #   Column          Non-Null Count  Dtype  \n",
      "---  ------          --------------  -----  \n",
      " 0   nombre          91 non-null     object \n",
      " 1   apellido        94 non-null     object \n",
      " 2   dni             90 non-null     float64\n",
      " 3   provincia       95 non-null     object \n",
      " 4   voto            96 non-null     object \n",
      " 5   fecha_votacion  95 non-null     object \n",
      "dtypes: float64(1), object(5)\n",
      "memory usage: 4.9+ KB\n",
      "None\n",
      "\n",
      "CANTIDAD DE CAMPOS NULOS\n",
      "\n",
      "nombre            10\n",
      "apellido           7\n",
      "dni               11\n",
      "provincia          6\n",
      "voto               5\n",
      "fecha_votacion     6\n",
      "dtype: int64\n"
     ]
    }
   ],
   "source": [
    "print(\"PRIMERAS 5 FILAS\\n\")\n",
    "print(df.head())\n",
    "\n",
    "print(\"\\nÚLTIMAS 5 FILAS\\n\")\n",
    "print(df.tail())\n",
    "\n",
    "print(\"\\nINFORMACIÓN GENERAL\\n\")\n",
    "print(df.info())\n",
    "\n",
    "print(\"\\nCANTIDAD DE CAMPOS NULOS\\n\")\n",
    "print(df.isnull().sum())"
   ]
  },
  {
   "cell_type": "markdown",
   "id": "1a2efc55",
   "metadata": {},
   "source": [
    "## 3. Limpieza y normalización de datos\n",
    "\n",
    "En los siguientes bloques aplicamos los métodos correspondientes para limpiar y normalizar los datos del DataFrame."
   ]
  },
  {
   "cell_type": "markdown",
   "id": "4dc20771",
   "metadata": {},
   "source": [
    "3.1. Se procede a eliminar toda fila que contenga al menos un campo vacío."
   ]
  },
  {
   "cell_type": "code",
   "execution_count": 29,
   "id": "08af4520",
   "metadata": {},
   "outputs": [
    {
     "data": {
      "text/html": [
       "<div>\n",
       "<style scoped>\n",
       "    .dataframe tbody tr th:only-of-type {\n",
       "        vertical-align: middle;\n",
       "    }\n",
       "\n",
       "    .dataframe tbody tr th {\n",
       "        vertical-align: top;\n",
       "    }\n",
       "\n",
       "    .dataframe thead th {\n",
       "        text-align: right;\n",
       "    }\n",
       "</style>\n",
       "<table border=\"1\" class=\"dataframe\">\n",
       "  <thead>\n",
       "    <tr style=\"text-align: right;\">\n",
       "      <th></th>\n",
       "      <th>nombre</th>\n",
       "      <th>apellido</th>\n",
       "      <th>dni</th>\n",
       "      <th>provincia</th>\n",
       "      <th>voto</th>\n",
       "      <th>fecha_votacion</th>\n",
       "    </tr>\n",
       "  </thead>\n",
       "  <tbody>\n",
       "    <tr>\n",
       "      <th>0</th>\n",
       "      <td>pánfilo</td>\n",
       "      <td>pombo</td>\n",
       "      <td>34787190.0</td>\n",
       "      <td>buenos aires</td>\n",
       "      <td>nulo</td>\n",
       "      <td>2024-11-22</td>\n",
       "    </tr>\n",
       "    <tr>\n",
       "      <th>1</th>\n",
       "      <td>albina</td>\n",
       "      <td>heredia</td>\n",
       "      <td>48336819.0</td>\n",
       "      <td>santa fe</td>\n",
       "      <td>nulo</td>\n",
       "      <td>2024-04-24</td>\n",
       "    </tr>\n",
       "    <tr>\n",
       "      <th>4</th>\n",
       "      <td>matías</td>\n",
       "      <td>esteban</td>\n",
       "      <td>30599927.0</td>\n",
       "      <td>chaco</td>\n",
       "      <td>no</td>\n",
       "      <td>10-07-2023</td>\n",
       "    </tr>\n",
       "    <tr>\n",
       "      <th>6</th>\n",
       "      <td>gervasio</td>\n",
       "      <td>bou</td>\n",
       "      <td>33761658.0</td>\n",
       "      <td>mendoza</td>\n",
       "      <td>no</td>\n",
       "      <td>23-09-2023</td>\n",
       "    </tr>\n",
       "    <tr>\n",
       "      <th>7</th>\n",
       "      <td>brígida</td>\n",
       "      <td>angulo</td>\n",
       "      <td>22169546.0</td>\n",
       "      <td>chaco</td>\n",
       "      <td>no</td>\n",
       "      <td>2024-05-02</td>\n",
       "    </tr>\n",
       "  </tbody>\n",
       "</table>\n",
       "</div>"
      ],
      "text/plain": [
       "     nombre apellido         dni     provincia  voto fecha_votacion\n",
       "0   pánfilo    pombo  34787190.0  buenos aires  nulo     2024-11-22\n",
       "1    albina  heredia  48336819.0      santa fe  nulo     2024-04-24\n",
       "4    matías  esteban  30599927.0         chaco    no     10-07-2023\n",
       "6  gervasio      bou  33761658.0       mendoza    no     23-09-2023\n",
       "7   brígida   angulo  22169546.0         chaco    no     2024-05-02"
      ]
     },
     "execution_count": 29,
     "metadata": {},
     "output_type": "execute_result"
    }
   ],
   "source": [
    "df.replace(['NaN'], pd.NA, inplace=True)\n",
    "df.dropna(inplace=True)\n",
    "df.isnull().sum()\n",
    "df.head()"
   ]
  },
  {
   "cell_type": "markdown",
   "id": "42d085cf",
   "metadata": {},
   "source": [
    "3.2. Convertimos la columna \"fecha_votacion\" a tipo Datetime."
   ]
  },
  {
   "cell_type": "code",
   "execution_count": null,
   "id": "7b8f17c8",
   "metadata": {},
   "outputs": [
    {
     "name": "stdout",
     "output_type": "stream",
     "text": [
      "0     2024-11-22\n",
      "1     2024-04-24\n",
      "4     2023-07-10\n",
      "6     2023-09-23\n",
      "7     2024-05-02\n",
      "         ...    \n",
      "96    2023-09-12\n",
      "97    2023-09-11\n",
      "98    2023-09-10\n",
      "99    2023-09-09\n",
      "100   2023-09-08\n",
      "Name: fecha_votacion, Length: 63, dtype: datetime64[ns]\n",
      "datetime64[ns]\n"
     ]
    }
   ],
   "source": [
    "df[\"fecha_votacion\"] = pd.Series(df[\"fecha_votacion\"])\n",
    "\n",
    "formato1 = pd.to_datetime(df[\"fecha_votacion\"], format=\"%Y-%m-%d\", errors=\"coerce\")\n",
    "formato2 = pd.to_datetime(df[\"fecha_votacion\"], format=\"%d-%m-%Y\", errors=\"coerce\")\n",
    "\n",
    "formato_final = formato1.combine_first(formato2)\n",
    "\n",
    "df[\"fecha_votacion\"] = formato_final\n",
    "\n",
    "print(df[\"fecha_votacion\"])"
   ]
  },
  {
   "cell_type": "markdown",
   "id": "b99bf196",
   "metadata": {},
   "source": [
    "3.3. En este bloque hacemos que todos los nombres, apellidos y provincias empiecen con mayúscula."
   ]
  },
  {
   "cell_type": "code",
   "execution_count": 35,
   "id": "73475154",
   "metadata": {},
   "outputs": [
    {
     "data": {
      "text/html": [
       "<div>\n",
       "<style scoped>\n",
       "    .dataframe tbody tr th:only-of-type {\n",
       "        vertical-align: middle;\n",
       "    }\n",
       "\n",
       "    .dataframe tbody tr th {\n",
       "        vertical-align: top;\n",
       "    }\n",
       "\n",
       "    .dataframe thead th {\n",
       "        text-align: right;\n",
       "    }\n",
       "</style>\n",
       "<table border=\"1\" class=\"dataframe\">\n",
       "  <thead>\n",
       "    <tr style=\"text-align: right;\">\n",
       "      <th></th>\n",
       "      <th>nombre</th>\n",
       "      <th>apellido</th>\n",
       "      <th>dni</th>\n",
       "      <th>provincia</th>\n",
       "      <th>voto</th>\n",
       "      <th>fecha_votacion</th>\n",
       "    </tr>\n",
       "  </thead>\n",
       "  <tbody>\n",
       "    <tr>\n",
       "      <th>0</th>\n",
       "      <td>Pánfilo</td>\n",
       "      <td>Pombo</td>\n",
       "      <td>34787190.0</td>\n",
       "      <td>Buenos Aires</td>\n",
       "      <td>nulo</td>\n",
       "      <td>2024-11-22</td>\n",
       "    </tr>\n",
       "    <tr>\n",
       "      <th>1</th>\n",
       "      <td>Albina</td>\n",
       "      <td>Heredia</td>\n",
       "      <td>48336819.0</td>\n",
       "      <td>Santa Fe</td>\n",
       "      <td>nulo</td>\n",
       "      <td>2024-04-24</td>\n",
       "    </tr>\n",
       "    <tr>\n",
       "      <th>4</th>\n",
       "      <td>Matías</td>\n",
       "      <td>Esteban</td>\n",
       "      <td>30599927.0</td>\n",
       "      <td>Chaco</td>\n",
       "      <td>no</td>\n",
       "      <td>2023-07-10</td>\n",
       "    </tr>\n",
       "    <tr>\n",
       "      <th>6</th>\n",
       "      <td>Gervasio</td>\n",
       "      <td>Bou</td>\n",
       "      <td>33761658.0</td>\n",
       "      <td>Mendoza</td>\n",
       "      <td>no</td>\n",
       "      <td>2023-09-23</td>\n",
       "    </tr>\n",
       "    <tr>\n",
       "      <th>7</th>\n",
       "      <td>Brígida</td>\n",
       "      <td>Angulo</td>\n",
       "      <td>22169546.0</td>\n",
       "      <td>Chaco</td>\n",
       "      <td>no</td>\n",
       "      <td>2024-05-02</td>\n",
       "    </tr>\n",
       "  </tbody>\n",
       "</table>\n",
       "</div>"
      ],
      "text/plain": [
       "     nombre apellido         dni     provincia  voto fecha_votacion\n",
       "0   Pánfilo    Pombo  34787190.0  Buenos Aires  nulo     2024-11-22\n",
       "1    Albina  Heredia  48336819.0      Santa Fe  nulo     2024-04-24\n",
       "4    Matías  Esteban  30599927.0         Chaco    no     2023-07-10\n",
       "6  Gervasio      Bou  33761658.0       Mendoza    no     2023-09-23\n",
       "7   Brígida   Angulo  22169546.0         Chaco    no     2024-05-02"
      ]
     },
     "execution_count": 35,
     "metadata": {},
     "output_type": "execute_result"
    }
   ],
   "source": [
    "df[\"nombre\"] = df[\"nombre\"].str.title()\n",
    "df[\"apellido\"] = df[\"apellido\"].str.title()\n",
    "df[\"provincia\"] = df[\"provincia\"].str.title()\n",
    "df.head()"
   ]
  }
 ],
 "metadata": {
  "kernelspec": {
   "display_name": ".venv",
   "language": "python",
   "name": "python3"
  },
  "language_info": {
   "codemirror_mode": {
    "name": "ipython",
    "version": 3
   },
   "file_extension": ".py",
   "mimetype": "text/x-python",
   "name": "python",
   "nbconvert_exporter": "python",
   "pygments_lexer": "ipython3",
   "version": "3.13.2"
  }
 },
 "nbformat": 4,
 "nbformat_minor": 5
}
